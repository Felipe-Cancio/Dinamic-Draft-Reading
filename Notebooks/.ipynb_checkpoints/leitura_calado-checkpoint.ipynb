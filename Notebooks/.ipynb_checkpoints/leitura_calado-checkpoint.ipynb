{
 "cells": [
  {
   "cell_type": "markdown",
   "metadata": {
    "colab_type": "text",
    "id": "view-in-github"
   },
   "source": [
    "<a href=\"https://colab.research.google.com/github/Felipe-Cancio/Dinamic-Draft-Reading/blob/master/Notebooks/leitura_calado.ipynb\" target=\"_parent\"><img src=\"https://colab.research.google.com/assets/colab-badge.svg\" alt=\"Open In Colab\"/></a> "
   ]
  },
  {
   "cell_type": "code",
   "execution_count": null,
   "metadata": {},
   "outputs": [],
   "source": [
    "# VERSAO 1 9/1 as 12:59"
   ]
  },
  {
   "cell_type": "code",
   "execution_count": 4,
   "metadata": {
    "id": "XAYZh0t69D1k"
   },
   "outputs": [],
   "source": [
    "# Importando as bibliotecas necessárias\n",
    "import cv2 as cv\n",
    "import matplotlib.pyplot as plt\n",
    "import matplotlib.image as img\n",
    "import numpy as np"
   ]
  },
  {
   "cell_type": "code",
   "execution_count": 5,
   "metadata": {
    "id": "Q4xtULQaVkO0"
   },
   "outputs": [],
   "source": [
    "# IMG ORIGINAL VS DETECÇÃO DE CANTOS\n",
    "def compareCorner(originalImage, cornerImage):\n",
    "  plt.figure(figsize=(22,22))\n",
    "  plt.subplot(121),plt.imshow(originalImage)\n",
    "  plt.title('Original Image'), plt.xticks([]), plt.yticks([])\n",
    "  plt.figure(figsize=(22,22))\n",
    "  plt.subplot(122),plt.imshow(cornerImage)\n",
    "  plt.title('Corner Image'), plt.xticks([]), plt.yticks([])\n",
    "  plt.show()\n",
    "\n",
    "# VISUALIZAR IMAGEM\n",
    "def displayImg(img, title):\n",
    "  plt.figure(figsize=(32,32))\n",
    "  plt.subplot(122),plt.imshow(img)\n",
    "  plt.title(title), plt.xticks([]), plt.yticks([])\n",
    "  plt.show()\n",
    "\n",
    "# ORIGINAL VS DETECÇÃO DE BORDAS\n",
    "def compareEdges(grayImage, edgesImage):\n",
    "  plt.figure(figsize=(22,22))\n",
    "  plt.subplot(121),plt.imshow(grayImage, cmap='gray')\n",
    "  plt.title('Original Image'), plt.xticks([]), plt.yticks([])\n",
    "  plt.figure(figsize=(22,22))\n",
    "  plt.subplot(122),plt.imshow(edgesImage, cmap='gray')\n",
    "  plt.title('Edges Image'), plt.xticks([]), plt.yticks([])\n",
    "  plt.show()"
   ]
  },
  {
   "cell_type": "code",
   "execution_count": 8,
   "metadata": {
    "collapsed": true,
    "id": "MdN5_WH5fvqm"
   },
   "outputs": [
    {
     "ename": "ModuleNotFoundError",
     "evalue": "No module named 'google.colab'",
     "output_type": "error",
     "traceback": [
      "\u001b[1;31m---------------------------------------------------------------------------\u001b[0m",
      "\u001b[1;31mModuleNotFoundError\u001b[0m                       Traceback (most recent call last)",
      "Cell \u001b[1;32mIn[8], line 2\u001b[0m\n\u001b[0;32m      1\u001b[0m \u001b[38;5;66;03m# Montando o Drive\u001b[39;00m\n\u001b[1;32m----> 2\u001b[0m \u001b[38;5;28;01mfrom\u001b[39;00m \u001b[38;5;21;01mgoogle\u001b[39;00m\u001b[38;5;21;01m.\u001b[39;00m\u001b[38;5;21;01mcolab\u001b[39;00m \u001b[38;5;28;01mimport\u001b[39;00m drive\n\u001b[0;32m      3\u001b[0m drive\u001b[38;5;241m.\u001b[39mmount(\u001b[38;5;124m'\u001b[39m\u001b[38;5;124m/content/drive/MyDrive/IFMA/II Hackaton Softex IFMA DCOMP 2023/Programação/Imagens\u001b[39m\u001b[38;5;124m'\u001b[39m)\n",
      "\u001b[1;31mModuleNotFoundError\u001b[0m: No module named 'google.colab'"
     ]
    }
   ],
   "source": [
    "# # Montando o Drive\n",
    "# from google.colab import drive\n",
    "# drive.mount('/content/drive/MyDrive/IFMA/II Hackaton Softex IFMA DCOMP 2023/Programação/Imagens')"
   ]
  },
  {
   "cell_type": "code",
   "execution_count": null,
   "metadata": {
    "id": "6jU77gdxX0LX",
    "scrolled": false
   },
   "outputs": [],
   "source": [
    "# Caminho da imagem de teste no drive\n",
    "path = '1.jpg'\n",
    "\n",
    "# Caminho da imagem de teste no pc (Jupyter)\n",
    "# path = '../imagens/11.jpg'\n",
    "# image = cv.imread(path)                    # Lendo a imagem usando opencv\n",
    "image = plt.imread(path)                    # Lendo a imagem usando matplotlib\n",
    "gray = cv.cvtColor(image,cv.COLOR_BGR2GRAY) # Transformando a imagem p/ escala de cinza\n",
    "gray = np.float32(gray)                     # Convertendo o ndarray p/ float32 (necessário p/ o Harris Algorithm)\n",
    "dst = cv.cornerHarris(gray,4,3,0.001)       # Detectando os cantos\n",
    "\n",
    "#resultado é dilatado para marcar os cantos (não importante)\n",
    "dst = cv.dilate(dst,None)\n",
    "cornerImg = image.copy()          # Cópia do ndarray p/ poder fzr alterações\n",
    "trshd = dst>0.01*dst.max()        # Definindo threshold\n",
    "cornerImg[trshd]=[255,0,0]        # Aplicando threshold visualização dos cantos (> 1% do maior valor)"
   ]
  },
  {
   "cell_type": "code",
   "execution_count": null,
   "metadata": {
    "colab": {
     "base_uri": "https://localhost:8080/"
    },
    "id": "sn7vK_5fd4rI",
    "outputId": "2dd8ad35-6b5b-433f-9899-cd46b002dfc7"
   },
   "outputs": [],
   "source": [
    "# Achando as coordenadas do maior e menor canto (que esta mais acima e mais abaixo)\n",
    "y,x = np.where(trshd == True)     # Achando as coordenadas de todos os cantos\n",
    "print(f'Coordenada maior canto (h,l): ({y[0]},{x[0]})')\n",
    "print(f'Coordenada menor canto (h,l): ({y[-1]},{x[-1]})')\n",
    "\n",
    "# Desenhar retas para baixo a partir de ponto\n",
    "# for i in range(y[-1],1080):\n",
    "#   im[i,x[-1]] = [0,0,255]"
   ]
  },
  {
   "cell_type": "code",
   "execution_count": null,
   "metadata": {
    "colab": {
     "base_uri": "https://localhost:8080/",
     "height": 693
    },
    "id": "zqzsUumyKqR5",
    "outputId": "4a7fe29b-b3a2-4736-c1c1-29812e0055d3"
   },
   "outputs": [],
   "source": [
    "# compareImg(image, cornerImg)    # Comparando as imagens antes e depois da detecção dos cantos\n",
    "displayImg(cornerImg, 'Corner Image')             # Mostrar a marcação dos cantos"
   ]
  },
  {
   "cell_type": "code",
   "execution_count": null,
   "metadata": {
    "colab": {
     "base_uri": "https://localhost:8080/",
     "height": 973
    },
    "id": "sH51FbdHOvQ6",
    "outputId": "f414d109-ef1f-45b6-d5b3-de749aa5e9ea"
   },
   "outputs": [],
   "source": [
    "# Canny Edge Detection\n",
    "edges = cv.Canny(image,50,100) #250,350 - 50,100\n",
    "compareEdges(gray,edges)"
   ]
  },
  {
   "cell_type": "code",
   "execution_count": null,
   "metadata": {
    "colab": {
     "base_uri": "https://localhost:8080/",
     "height": 693
    },
    "id": "OtMVn-zbVWx0",
    "outputId": "fb886900-cdd8-4ed7-e7fb-6eb0e4027223"
   },
   "outputs": [],
   "source": [
    "# Hough Line Trasnform\n",
    "copy = image.copy()   # Fazendo uma cópia da imagem original para desenhar as retas\n",
    "\n",
    "# # CLÁSSICA\n",
    "# lines = cv.HoughLines(edges, 1, np.pi/180, 150, None, 0, 0)\n",
    "# if lines is not None:\n",
    "#   for i in range(0, len(lines)):\n",
    "#     rho = lines[i][0][0]\n",
    "#     theta = lines[i][0][1]\n",
    "#     a = np.cos(theta)\n",
    "#     b = np.sin(theta)\n",
    "#     x0 = a * rho\n",
    "#     y0 = b * rho\n",
    "#     pt1 = (int(x0 + 1000*(-b)), int(y0 + 1000*(a)))\n",
    "#     pt2 = (int(x0 - 1000*(-b)), int(y0 - 1000*(a)))\n",
    "#     cv.line(copy, pt1, pt2, (0,0,255), 3, cv.LINE_AA)\n",
    "\n",
    "# PROBABILÍSTICA\n",
    "linesP = cv.HoughLinesP(edges, 1, np.pi/180, 50, None, 50, 10)\n",
    "\n",
    "if linesP is not None:\n",
    "  for i in range(0, len(linesP)):\n",
    "    l = linesP[i][0]\n",
    "    cv.line(copy, (l[0], l[1]), (l[2], l[3]), (255,0,0), 3, cv.LINE_AA)\n",
    "\n",
    "\n",
    "\n",
    "\n",
    "\n",
    "displayImg(copy, 'Hough Transform')\n",
    "\n",
    "\n",
    "\n"
   ]
  }
 ],
 "metadata": {
  "colab": {
   "include_colab_link": true,
   "provenance": []
  },
  "kernelspec": {
   "display_name": "Python 3 (ipykernel)",
   "language": "python",
   "name": "python3"
  },
  "language_info": {
   "codemirror_mode": {
    "name": "ipython",
    "version": 3
   },
   "file_extension": ".py",
   "mimetype": "text/x-python",
   "name": "python",
   "nbconvert_exporter": "python",
   "pygments_lexer": "ipython3",
   "version": "3.11.4"
  }
 },
 "nbformat": 4,
 "nbformat_minor": 1
}
