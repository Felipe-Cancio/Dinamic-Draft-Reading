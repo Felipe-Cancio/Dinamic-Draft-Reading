{
 "cells": [
  {
   "cell_type": "code",
   "execution_count": null,
   "id": "37802a24",
   "metadata": {},
   "outputs": [],
   "source": [
    "# Cloning the project repository\n",
    "# !git clone https://github.com/Felipe-Cancio/Dinamic-Draft-Reading.git"
   ]
  },
  {
   "cell_type": "code",
   "execution_count": null,
   "id": "1fe46378-de44-42cb-b51d-0b35a1660dbd",
   "metadata": {},
   "outputs": [],
   "source": [
    "# ANOTAÇÕES\n",
    "# Formas de pegar os pontos das bounding boxes do tensor\n",
    "# results[0].boxes.xyxy[0,0].int().item()  - Pytorch function sem arredondar\n",
    "# results[0].boxes.xyxy[0,0].round().int().item() - Pytorch function arredondando\n",
    "# round(results[0].boxes.xyxy[0,0].item()) - Python round function arredondando\n",
    "# a = list(zip(os.listdir('runs/detect/predict2/crops/DM'),recognMarks2()))\n",
    "# next(os.walk('runsos.listdir('runs/detect/predict/crops/DM')\n",
    "# print(y1-10, y2+10, x1-10, x2+10)\n",
    "# print(img[(y1-10:y2+10,x1-10:x2+10).clip(min=0)])\n",
    "# print('-'*20)\n",
    "# Tenho que fazer uma funcao p melhorar o tamanho da boundig box sem invadir outras bounding boxes"
   ]
  },
  {
   "cell_type": "code",
   "execution_count": null,
   "id": "9eabe0af",
   "metadata": {
    "scrolled": true
   },
   "outputs": [],
   "source": [
    "# Libs\n",
    "from ultralytics import YOLO\n",
    "from matplotlib import pyplot as plt\n",
    "import easyocr\n",
    "import cv2 as cv\n",
    "import os"
   ]
  },
  {
   "cell_type": "code",
   "execution_count": null,
   "id": "d0fbb685-3c10-404a-9b46-6a9cca872f8e",
   "metadata": {},
   "outputs": [],
   "source": [
    "# VISUALIZAR IMAGEM\n",
    "def displayImg(img, title='', cmap=None):\n",
    "  plt.figure(figsize=(25,25))\n",
    "  plt.subplot(122),plt.imshow(img, cmap=cmap)\n",
    "  plt.title(title), plt.xticks([]), plt.yticks([])\n",
    "  plt.show()\n",
    "\n",
    "# VISUALIZAR A COMPARAÇÃO DE DUAS IMAGENS\n",
    "def compareImgs(image1, image2, title1, title2, cmap=None):\n",
    "  plt.figure(figsize=(22,22))\n",
    "  plt.subplot(121),plt.imshow(image1, cmap=cmap)\n",
    "  plt.title(title2), plt.xticks([]), plt.yticks([])\n",
    "  plt.figure(figsize=(22,22))\n",
    "  plt.subplot(122),plt.imshow(image2, cmap=cmap)\n",
    "  plt.title(title2), plt.xticks([]), plt.yticks([])\n",
    "  plt.show()"
   ]
  },
  {
   "cell_type": "code",
   "execution_count": 210,
   "id": "9437e2fd-321f-4917-a080-fafe80b15efb",
   "metadata": {},
   "outputs": [],
   "source": [
    "# Função p/ ordernar as boundig boxes detectadas (baixo p/ cima, direita p/ esquerda)\n",
    "def sortBoxes(boxes_xyxy): \n",
    "  boxes_sorted = boxes_xyxy.clone()                                        # Clonando o tensor com as coordenadas das boundig boxes\n",
    "  # Achando os indices das boxes ordenadas canto inferior direito\n",
    "  indices_sorted = boxes_xyxy[:,-2:].sum(1).sort(dim=0, descending=True).indices \n",
    "  boxes_sorted = boxes_xyxy[indices_sorted]                                # Ordenando novo tensor pelos indices\n",
    "  return boxes_sorted                                                      # Retornando tensor das bouding boxes ordenadas\n",
    "\n",
    "# Função p/ extratir marcas de calado da imagem\n",
    "def extractBoxes(img, boxes_xyxy, expand):\n",
    "  draftMarksImgs = list()                                     # Lista que irá conter as imagens das marcas de calado cortadas\n",
    "  for box in boxes_xyxy:                                       # Iterando a lista de bounding boxes\n",
    "    # x1, y1, x2, y2 = [point.int().item() for point in box]    # Extraindo os pontos de cada bounding box (antigo)\n",
    "    idxs = [point.int().item() for point in box]    # Extraindo os pontos de cada bounding box\n",
    "    x1, y1, x2, y2 = idxs\n",
    "    x1, y1 = [0 if idx-expand <= 0 else idx-expand for idx in idxs[:2]]\n",
    "    draftMarksImgs.append(img[y1:y2+expand,x1:x2+expand]) # img[y1-10:y2+10,x1-10:x2+10] Cortando as bounding boxes da imagem\n",
    "  return draftMarksImgs                                        # Retornando as imagens cortadas das marcas de calado detectadas\n",
    "\n",
    "# Função p/ classificar o valor das marcas de calado \n",
    "def recognMarks(boxes_imgs):\n",
    "  draft_mark_values = list()                               # Lista que irá conter os valores das marcas de calado detectadas\n",
    "  for boxe_img in boxes_imgs:                              # Iterando a lista das imagens das marcas de calado\n",
    "    draft_mark_value = reader.recognize(boxe_img, allowlist=\"123456789M\", detail=0)[0]    # Reconhecendo valor da marca de calado\n",
    "    draft_mark_values.append(draft_mark_value)                                   # Salvando valor da marca de calado\n",
    "  return draft_mark_values                                     # Retornando lista com os valores das marcas de calado\n",
    "\n",
    "# Função p/ classificar o valor das marcas de calado das imagens extraidas \n",
    "def recognMarks2():\n",
    "  dmValues = list()                                              # Lista que irá conter os valores das marcas de calado detectadas\n",
    "  draftMarksImgs = os.listdir('runs/detect/predict/crops/DM')   # Caminhos das imagens das marcas de calado cortadas YOLO\n",
    "  for draftMarkImg in draftMarksImgs:                            # Iterando a lista das imagens das marcas de calado\n",
    "    # Reconhecendo valor da marca de calado\n",
    "    dmValue = reader.recognize('runs/detect/predict/crops/DM/' + draftMarkImg, allowlist=\"123456789M\", detail=0)[0]\n",
    "    dmValues.append(dmValue)                                     # Salvando valor da marca de calado\n",
    "  return dmValues                                                # Retornando lista com os valores das marcas de calado\n",
    "\n",
    "# Função p/ inferir o calado com base no valor e coord das marcas de calado\n",
    "def predictDraft(draft_mark_values, boxes_xyxy):\n",
    "  draft_fract = draft_mark_values[0]/10\n",
    "  m_idx = get_idx(draft_mark_values, 'M')\n",
    "  \n",
    "  \n",
    "def drawDigits(img, boxes_xyxy, draft_mark_values):\n",
    "  test_img = img.copy()\n",
    "  for i, box in enumerate(boxes_xyxy):\n",
    "    x1, y1, x2, y2 = [point.int().item() for point in box]\n",
    "    cv.putText(test_img, str(draft_mark_values[i]), (x2 + 50, y2), cv.FONT_HERSHEY_SIMPLEX, 0.5, (0,0,0), 1, cv.LINE_AA) # (DEBUG)\n",
    "  displayImg(test_img)                                          # Visualizando a imagem com os valores (DEBUG)\n",
    "\n",
    "def get_idx(lst, value) -> list:\n",
    "    indices = list()\n",
    "    i = 0\n",
    "    while True:\n",
    "        try:\n",
    "            i = lst.index(value, i)         # find an occurrence of value and update i to that index\n",
    "            indices.append(i)            # add i to the list\n",
    "            i += 1                       # advance i by 1\n",
    "        except ValueError as e:\n",
    "            break\n",
    "    return indices"
   ]
  },
  {
   "cell_type": "code",
   "execution_count": 117,
   "id": "3d36ff90-4ce0-4b0a-a232-1a26775088d4",
   "metadata": {},
   "outputs": [
    {
     "name": "stderr",
     "output_type": "stream",
     "text": [
      "Using CPU. Note: This module is much faster with a GPU.\n"
     ]
    }
   ],
   "source": [
    "model = YOLO('Draft_Marks_Detect_YOLO_v3.pt')  # Carregando o modelo de detecção na memória\n",
    "reader = easyocr.Reader(['en'], gpu=False)     # Carregando o modelo de OCR na memória"
   ]
  },
  {
   "cell_type": "code",
   "execution_count": 179,
   "id": "a91e122d-2de5-40ba-892f-8602ef548a59",
   "metadata": {},
   "outputs": [],
   "source": [
    "img = cv.imread(\"1.jpg\")\n",
    "# img = cv.cvtColor(img, cv.COLOR_BGR2RGB)"
   ]
  },
  {
   "cell_type": "code",
   "execution_count": 180,
   "id": "577d396e-21f8-4082-92fc-ef615adc28f1",
   "metadata": {},
   "outputs": [
    {
     "name": "stdout",
     "output_type": "stream",
     "text": [
      "\n",
      "0: 640x640 11 DMs, 203.8ms\n",
      "Speed: 8.0ms preprocess, 203.8ms inference, 2.0ms postprocess per image at shape (1, 3, 640, 640)\n",
      "Results saved to \u001b[1mruns\\detect\\predict\u001b[0m\n"
     ]
    }
   ],
   "source": [
    "results = model.predict(img, conf=0.5, save=True, save_crop=True,)   # Detectando as marcas de calado na imagem\n",
    "results_boxes = results[0].boxes.xyxy\n",
    "img = cv.cvtColor(img, cv.COLOR_BGR2RGB)"
   ]
  },
  {
   "cell_type": "code",
   "execution_count": 212,
   "id": "a76d9663-51f4-4989-a2fa-ed27c176b9da",
   "metadata": {},
   "outputs": [
    {
     "name": "stdout",
     "output_type": "stream",
     "text": [
      "['2', '4', '6', '8', 'M', '9', '1', '2', '4', '6', '8']\n"
     ]
    }
   ],
   "source": [
    "sorted_boxes = sortBoxes(results_boxes)\n",
    "boxes_imgs = extractBoxes(img, sorted_boxes, 4)\n",
    "draft_mark_values = recognMarks(boxes_imgs)\n",
    "# drawDigits(img, sorted_boxes, draft_mark_values)\n",
    "# displayImg(boxes_imgs[0])\n",
    "# reader.recognize(boxes_imgs[0], allowlist=\"123456789M\", detail=0)[0]\n",
    "# draft_mark_values\n",
    "# print(results_boxes[:,-2:])\n",
    "# results_boxes[:,-2:].sort(dim=0, descending=True).indices\n",
    "# results_boxes[:,-2:][0].sum()\n",
    "# results_boxes[:,-2:].sum(1)\n",
    "print(draft_mark_values)\n",
    "# list(filter(lambda m: draft_mark_values.index(m) if m[-1] == 'M' else 0, draft_mark_values))\n"
   ]
  }
 ],
 "metadata": {
  "kernelspec": {
   "display_name": "AquaDepth_DL",
   "language": "python",
   "name": "aquadepth_dl"
  },
  "language_info": {
   "codemirror_mode": {
    "name": "ipython",
    "version": 3
   },
   "file_extension": ".py",
   "mimetype": "text/x-python",
   "name": "python",
   "nbconvert_exporter": "python",
   "pygments_lexer": "ipython3",
   "version": "3.11.7"
  }
 },
 "nbformat": 4,
 "nbformat_minor": 5
}
